{
  "nbformat": 4,
  "nbformat_minor": 0,
  "metadata": {
    "colab": {
      "provenance": [],
      "authorship_tag": "ABX9TyMM3o0jumuXBBmrjgoWVHXn",
      "include_colab_link": true
    },
    "kernelspec": {
      "name": "python3",
      "display_name": "Python 3"
    },
    "language_info": {
      "name": "python"
    }
  },
  "cells": [
    {
      "cell_type": "markdown",
      "metadata": {
        "id": "view-in-github",
        "colab_type": "text"
      },
      "source": [
        "<a href=\"https://colab.research.google.com/github/SunmoKoo/research-prac/blob/main/vgg19_TransferLearning(2_8%2C_data_ext).ipynb\" target=\"_parent\"><img src=\"https://colab.research.google.com/assets/colab-badge.svg\" alt=\"Open In Colab\"/></a>"
      ]
    },
    {
      "cell_type": "code",
      "execution_count": null,
      "metadata": {
        "id": "mc5x-9Hp_qnb"
      },
      "outputs": [],
      "source": [
        "from tensorflow.keras.preprocessing.image import ImageDataGenerator\n",
        "from tensorflow.keras import Input, models, layers, optimizers, metrics\n",
        "from tensorflow.keras.layers import Dense, Flatten, Activation, Dropout\n",
        "from tensorflow.keras.applications import VGG19\n",
        "from tensorflow.keras.callbacks import EarlyStopping\n",
        "\n",
        "import numpy as np\n",
        "import matplotlib.pyplot as plt"
      ]
    },
    {
      "cell_type": "code",
      "source": [
        "!git clone https://github.com/SunmoKoo/research-prac.git"
      ],
      "metadata": {
        "id": "8Ihmplfrg5K5",
        "colab": {
          "base_uri": "https://localhost:8080/"
        },
        "outputId": "a1219a6f-6fa8-495a-c2f1-53fca23b4299"
      },
      "execution_count": null,
      "outputs": [
        {
          "output_type": "stream",
          "name": "stdout",
          "text": [
            "fatal: destination path 'research-prac' already exists and is not an empty directory.\n"
          ]
        }
      ]
    },
    {
      "cell_type": "code",
      "source": [
        "data_generator = ImageDataGenerator(rescale=1./255, rotation_range=20, width_shift_range=0.1, height_shift_range=0.1, horizontal_flip=True, vertical_flip=True, zoom_range=1.2, fill_mode='nearest', validation_split=0.8)\n",
        "train_generator = data_generator.flow_from_directory('research-prac/data_prac/data', target_size=(240,240), batch_size=8, class_mode='binary')\n",
        "val_generator = data_generator.flow_from_directory('research-prac/data_prac/data', target_size=(240,240), batch_size=8, class_mode='binary')"
      ],
      "metadata": {
        "id": "CdbfmAHo_2mu",
        "colab": {
          "base_uri": "https://localhost:8080/"
        },
        "outputId": "7080ec56-77d8-47c3-bdc5-57272e7a85cc"
      },
      "execution_count": null,
      "outputs": [
        {
          "output_type": "stream",
          "name": "stdout",
          "text": [
            "Found 553 images belonging to 2 classes.\n",
            "Found 553 images belonging to 2 classes.\n"
          ]
        }
      ]
    },
    {
      "cell_type": "code",
      "source": [
        "transfer_model = VGG19(weights='imagenet', include_top=False, input_shape=(240,240,3))\n",
        "transfer_model.trainable = False"
      ],
      "metadata": {
        "id": "4w_yKRXjirDA"
      },
      "execution_count": null,
      "outputs": []
    },
    {
      "cell_type": "code",
      "source": [
        "finetune_model = models.Sequential()\n",
        "finetune_model.add(transfer_model)\n",
        "finetune_model.add(Flatten())\n",
        "finetune_model.add(Dense(256))\n",
        "finetune_model.add(Activation('relu'))\n",
        "finetune_model.add(Dropout(0.5))\n",
        "finetune_model.add(Dense(1))\n",
        "finetune_model.add(Activation('sigmoid'))\n",
        "finetune_model.summary()"
      ],
      "metadata": {
        "colab": {
          "base_uri": "https://localhost:8080/"
        },
        "id": "9IenL8ILitc4",
        "outputId": "11ce0784-c88d-43f2-fbdd-092cbd4cfd83"
      },
      "execution_count": null,
      "outputs": [
        {
          "output_type": "stream",
          "name": "stdout",
          "text": [
            "Model: \"sequential\"\n",
            "_________________________________________________________________\n",
            " Layer (type)                Output Shape              Param #   \n",
            "=================================================================\n",
            " vgg19 (Functional)          (None, 7, 7, 512)         20024384  \n",
            "                                                                 \n",
            " flatten (Flatten)           (None, 25088)             0         \n",
            "                                                                 \n",
            " dense (Dense)               (None, 256)               6422784   \n",
            "                                                                 \n",
            " activation (Activation)     (None, 256)               0         \n",
            "                                                                 \n",
            " dropout (Dropout)           (None, 256)               0         \n",
            "                                                                 \n",
            " dense_1 (Dense)             (None, 1)                 257       \n",
            "                                                                 \n",
            " activation_1 (Activation)   (None, 1)                 0         \n",
            "                                                                 \n",
            "=================================================================\n",
            "Total params: 26,447,425\n",
            "Trainable params: 6,423,041\n",
            "Non-trainable params: 20,024,384\n",
            "_________________________________________________________________\n"
          ]
        }
      ]
    },
    {
      "cell_type": "code",
      "source": [
        "finetune_model.compile(loss='binary_crossentropy', optimizer = optimizers.Adam(learning_rate=0.0001),metrics=['accuracy'])\n",
        "early_stopping_callback = EarlyStopping(monitor='val_loss', patience=16)"
      ],
      "metadata": {
        "id": "yFRh2wBRivMd"
      },
      "execution_count": null,
      "outputs": []
    },
    {
      "cell_type": "code",
      "source": [
        "history = finetune_model.fit(train_generator, epochs=200, validation_data=val_generator, callbacks=[early_stopping_callback])"
      ],
      "metadata": {
        "id": "BbL2hSefi3Ex",
        "colab": {
          "base_uri": "https://localhost:8080/"
        },
        "outputId": "03e35527-69a1-4f20-ab31-20e36fcd7626"
      },
      "execution_count": null,
      "outputs": [
        {
          "output_type": "stream",
          "name": "stdout",
          "text": [
            "Epoch 1/200\n",
            "70/70 [==============================] - 853s 12s/step - loss: 0.4467 - accuracy: 0.8662 - val_loss: 0.4133 - val_accuracy: 0.8807\n",
            "Epoch 2/200\n",
            "70/70 [==============================] - 929s 13s/step - loss: 0.3935 - accuracy: 0.8770 - val_loss: 0.3497 - val_accuracy: 0.8807\n",
            "Epoch 3/200\n",
            "70/70 [==============================] - 991s 14s/step - loss: 0.3533 - accuracy: 0.8788 - val_loss: 0.3641 - val_accuracy: 0.8807\n",
            "Epoch 4/200\n",
            "70/70 [==============================] - 865s 12s/step - loss: 0.3648 - accuracy: 0.8807 - val_loss: 0.3346 - val_accuracy: 0.8807\n",
            "Epoch 5/200\n",
            "70/70 [==============================] - 867s 12s/step - loss: 0.3685 - accuracy: 0.8807 - val_loss: 0.3420 - val_accuracy: 0.8807\n",
            "Epoch 6/200\n",
            "70/70 [==============================] - 868s 12s/step - loss: 0.3371 - accuracy: 0.8807 - val_loss: 0.3405 - val_accuracy: 0.8807\n",
            "Epoch 7/200\n",
            "70/70 [==============================] - 846s 12s/step - loss: 0.3634 - accuracy: 0.8807 - val_loss: 0.3325 - val_accuracy: 0.8807\n",
            "Epoch 8/200\n",
            "70/70 [==============================] - 868s 12s/step - loss: 0.3307 - accuracy: 0.8807 - val_loss: 0.3256 - val_accuracy: 0.8807\n",
            "Epoch 9/200\n",
            "70/70 [==============================] - 1005s 14s/step - loss: 0.3567 - accuracy: 0.8807 - val_loss: 0.3227 - val_accuracy: 0.8807\n",
            "Epoch 10/200\n",
            "70/70 [==============================] - 875s 13s/step - loss: 0.3406 - accuracy: 0.8752 - val_loss: 0.3149 - val_accuracy: 0.8807\n",
            "Epoch 11/200\n",
            "70/70 [==============================] - 866s 12s/step - loss: 0.3457 - accuracy: 0.8807 - val_loss: 0.3083 - val_accuracy: 0.8807\n",
            "Epoch 12/200\n",
            "70/70 [==============================] - 868s 12s/step - loss: 0.3386 - accuracy: 0.8807 - val_loss: 0.3164 - val_accuracy: 0.8807\n",
            "Epoch 13/200\n",
            "70/70 [==============================] - 865s 12s/step - loss: 0.3430 - accuracy: 0.8788 - val_loss: 0.3078 - val_accuracy: 0.8807\n",
            "Epoch 14/200\n",
            "70/70 [==============================] - 869s 12s/step - loss: 0.3400 - accuracy: 0.8825 - val_loss: 0.3471 - val_accuracy: 0.8807\n",
            "Epoch 15/200\n",
            "70/70 [==============================] - 950s 14s/step - loss: 0.3503 - accuracy: 0.8825 - val_loss: 0.3023 - val_accuracy: 0.8807\n",
            "Epoch 16/200\n",
            "70/70 [==============================] - 869s 12s/step - loss: 0.3370 - accuracy: 0.8807 - val_loss: 0.3558 - val_accuracy: 0.8897\n",
            "Epoch 17/200\n",
            "70/70 [==============================] - 869s 12s/step - loss: 0.3457 - accuracy: 0.8770 - val_loss: 0.2986 - val_accuracy: 0.8807\n",
            "Epoch 18/200\n",
            "70/70 [==============================] - 869s 13s/step - loss: 0.3368 - accuracy: 0.8807 - val_loss: 0.3095 - val_accuracy: 0.8807\n",
            "Epoch 19/200\n",
            "70/70 [==============================] - 867s 12s/step - loss: 0.3184 - accuracy: 0.8807 - val_loss: 0.3022 - val_accuracy: 0.8825\n",
            "Epoch 20/200\n",
            "70/70 [==============================] - 867s 12s/step - loss: 0.3382 - accuracy: 0.8807 - val_loss: 0.2971 - val_accuracy: 0.8825\n",
            "Epoch 21/200\n",
            "70/70 [==============================] - 888s 13s/step - loss: 0.3307 - accuracy: 0.8788 - val_loss: 0.2886 - val_accuracy: 0.8807\n",
            "Epoch 22/200\n",
            "70/70 [==============================] - 1066s 15s/step - loss: 0.3218 - accuracy: 0.8843 - val_loss: 0.2866 - val_accuracy: 0.8825\n",
            "Epoch 23/200\n",
            "70/70 [==============================] - 878s 13s/step - loss: 0.3032 - accuracy: 0.8788 - val_loss: 0.3063 - val_accuracy: 0.8807\n",
            "Epoch 24/200\n",
            "70/70 [==============================] - 865s 12s/step - loss: 0.3077 - accuracy: 0.8933 - val_loss: 0.3017 - val_accuracy: 0.8825\n",
            "Epoch 25/200\n",
            "66/70 [===========================>..] - ETA: 24s - loss: 0.3172 - accuracy: 0.8944"
          ]
        }
      ]
    },
    {
      "cell_type": "code",
      "source": [
        "y_vacc = history.history['val_accuracy']\n",
        "y_acc = history.history['accuracy']\n",
        "\n",
        "x_len = np.arange(len(y_acc))\n",
        "plt.plot(x_len, y_vacc, marker='.', c='red', label='val_accuracy')\n",
        "plt.plot(x_len, y_acc, marker='.', c='blue', label = 'accuracy')\n",
        "\n",
        "plt.legend(loc='upper right')\n",
        "plt.grid()\n",
        "plt.xlabel('epoch')\n",
        "plt.ylabel('acc')\n",
        "plt.show"
      ],
      "metadata": {
        "id": "DCLY1JRgjHGB"
      },
      "execution_count": null,
      "outputs": []
    },
    {
      "cell_type": "code",
      "source": [
        "y_vloss = history.history['val_loss']\n",
        "y_loss = history.history['loss']\n",
        "\n",
        "x_len = np.arange(len(y_loss))\n",
        "plt.plot(x_len, y_vloss, marker='.', c='red', label='val_loss')\n",
        "plt.plot(x_len, y_loss, marker='.', c='blue', label = 'loss')\n",
        "\n",
        "plt.legend(loc='upper right')\n",
        "plt.grid()\n",
        "plt.xlabel('epoch')\n",
        "plt.ylabel('loss')\n",
        "plt.show"
      ],
      "metadata": {
        "id": "-trjkWJdcynm"
      },
      "execution_count": null,
      "outputs": []
    }
  ]
}