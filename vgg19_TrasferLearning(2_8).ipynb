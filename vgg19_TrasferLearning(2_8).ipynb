{
  "cells": [
    {
      "cell_type": "markdown",
      "metadata": {
        "id": "view-in-github",
        "colab_type": "text"
      },
      "source": [
        "<a href=\"https://colab.research.google.com/github/SunmoKoo/research-prac/blob/main/vgg19_TrasferLearning(2_8).ipynb\" target=\"_parent\"><img src=\"https://colab.research.google.com/assets/colab-badge.svg\" alt=\"Open In Colab\"/></a>"
      ]
    },
    {
      "cell_type": "code",
      "execution_count": null,
      "metadata": {
        "id": "mc5x-9Hp_qnb"
      },
      "outputs": [],
      "source": [
        "from tensorflow.keras.preprocessing.image import ImageDataGenerator\n",
        "from tensorflow.keras import Input, models, layers, optimizers, metrics\n",
        "from tensorflow.keras.layers import Dense, Flatten, Activation, Dropout\n",
        "from tensorflow.keras.applications import VGG19\n",
        "from tensorflow.keras.callbacks import EarlyStopping\n",
        "\n",
        "import numpy as np\n",
        "import matplotlib.pyplot as plt"
      ]
    },
    {
      "cell_type": "code",
      "execution_count": null,
      "metadata": {
        "colab": {
          "base_uri": "https://localhost:8080/"
        },
        "id": "8Ihmplfrg5K5",
        "outputId": "b847f758-eb2c-45c0-95c1-0e5c1677625b"
      },
      "outputs": [
        {
          "name": "stdout",
          "output_type": "stream",
          "text": [
            "Cloning into 'research-prac'...\n",
            "remote: Enumerating objects: 575, done.\u001b[K\n",
            "remote: Counting objects: 100% (10/10), done.\u001b[K\n",
            "remote: Compressing objects: 100% (9/9), done.\u001b[K\n",
            "remote: Total 575 (delta 0), reused 7 (delta 0), pack-reused 565\u001b[K\n",
            "Receiving objects: 100% (575/575), 68.39 MiB | 17.41 MiB/s, done.\n",
            "Resolving deltas: 100% (2/2), done.\n"
          ]
        }
      ],
      "source": [
        "!git clone https://github.com/SunmoKoo/research-prac.git"
      ]
    },
    {
      "cell_type": "code",
      "execution_count": null,
      "metadata": {
        "colab": {
          "base_uri": "https://localhost:8080/"
        },
        "id": "CdbfmAHo_2mu",
        "outputId": "29b62a3a-437f-4522-93fc-84b89b45d1e1"
      },
      "outputs": [
        {
          "name": "stdout",
          "output_type": "stream",
          "text": [
            "Found 553 images belonging to 2 classes.\n",
            "Found 553 images belonging to 2 classes.\n"
          ]
        }
      ],
      "source": [
        "data_generator = ImageDataGenerator(rescale=1./255, validation_split=0.8)\n",
        "train_generator = data_generator.flow_from_directory('research-prac/data_prac/data', target_size=(240,240), batch_size=8, class_mode='binary')\n",
        "val_generator = data_generator.flow_from_directory('research-prac/data_prac/data', target_size=(240,240), batch_size=8, class_mode='binary')"
      ]
    },
    {
      "cell_type": "code",
      "execution_count": null,
      "metadata": {
        "colab": {
          "base_uri": "https://localhost:8080/"
        },
        "id": "4w_yKRXjirDA",
        "outputId": "ff0d704d-5506-44bd-dcf2-b50e9c6cbecb"
      },
      "outputs": [
        {
          "name": "stdout",
          "output_type": "stream",
          "text": [
            "Downloading data from https://storage.googleapis.com/tensorflow/keras-applications/vgg19/vgg19_weights_tf_dim_ordering_tf_kernels_notop.h5\n",
            "80134624/80134624 [==============================] - 1s 0us/step\n"
          ]
        }
      ],
      "source": [
        "transfer_model = VGG19(weights='imagenet', include_top=False, input_shape=(240,240,3))\n",
        "transfer_model.trainable = False"
      ]
    },
    {
      "cell_type": "code",
      "execution_count": null,
      "metadata": {
        "colab": {
          "base_uri": "https://localhost:8080/"
        },
        "id": "9IenL8ILitc4",
        "outputId": "2125ba32-b20c-4975-e9b0-6a7ae33c99c1"
      },
      "outputs": [
        {
          "name": "stdout",
          "output_type": "stream",
          "text": [
            "Model: \"sequential\"\n",
            "_________________________________________________________________\n",
            " Layer (type)                Output Shape              Param #   \n",
            "=================================================================\n",
            " vgg19 (Functional)          (None, 7, 7, 512)         20024384  \n",
            "                                                                 \n",
            " flatten (Flatten)           (None, 25088)             0         \n",
            "                                                                 \n",
            " dense (Dense)               (None, 256)               6422784   \n",
            "                                                                 \n",
            " activation (Activation)     (None, 256)               0         \n",
            "                                                                 \n",
            " dropout (Dropout)           (None, 256)               0         \n",
            "                                                                 \n",
            " dense_1 (Dense)             (None, 1)                 257       \n",
            "                                                                 \n",
            " activation_1 (Activation)   (None, 1)                 0         \n",
            "                                                                 \n",
            "=================================================================\n",
            "Total params: 26,447,425\n",
            "Trainable params: 6,423,041\n",
            "Non-trainable params: 20,024,384\n",
            "_________________________________________________________________\n"
          ]
        }
      ],
      "source": [
        "finetune_model = models.Sequential()\n",
        "finetune_model.add(transfer_model)\n",
        "finetune_model.add(Flatten())\n",
        "finetune_model.add(Dense(256))\n",
        "finetune_model.add(Activation('relu'))\n",
        "finetune_model.add(Dropout(0.5))\n",
        "finetune_model.add(Dense(1))\n",
        "finetune_model.add(Activation('sigmoid'))\n",
        "finetune_model.summary()"
      ]
    },
    {
      "cell_type": "code",
      "execution_count": null,
      "metadata": {
        "id": "yFRh2wBRivMd"
      },
      "outputs": [],
      "source": [
        "finetune_model.compile(loss='binary_crossentropy', optimizer = optimizers.Adam(learning_rate=0.0001),metrics=['accuracy'])\n",
        "early_stopping_callback = EarlyStopping(monitor='val_loss', patience=16)"
      ]
    },
    {
      "cell_type": "code",
      "execution_count": null,
      "metadata": {
        "colab": {
          "background_save": true,
          "base_uri": "https://localhost:8080/"
        },
        "id": "BbL2hSefi3Ex",
        "outputId": "c88587c1-4177-43ed-a9bf-ee2f54f3ef37"
      },
      "outputs": [
        {
          "name": "stdout",
          "output_type": "stream",
          "text": [
            "Epoch 1/200\n",
            "70/70 [==============================] - 825s 12s/step - loss: 0.3970 - accuracy: 0.8698 - val_loss: 0.3442 - val_accuracy: 0.8807\n",
            "Epoch 2/200\n",
            "70/70 [==============================] - 849s 12s/step - loss: 0.2923 - accuracy: 0.8933 - val_loss: 0.2008 - val_accuracy: 0.8987\n",
            "Epoch 3/200\n",
            "70/70 [==============================] - 810s 12s/step - loss: 0.2352 - accuracy: 0.9060 - val_loss: 0.1536 - val_accuracy: 0.9403\n",
            "Epoch 4/200\n",
            "70/70 [==============================] - 848s 12s/step - loss: 0.1815 - accuracy: 0.9204 - val_loss: 0.1318 - val_accuracy: 0.9620\n",
            "Epoch 5/200\n",
            "70/70 [==============================] - 849s 12s/step - loss: 0.1850 - accuracy: 0.9259 - val_loss: 0.1538 - val_accuracy: 0.9168\n",
            "Epoch 6/200\n",
            "70/70 [==============================] - 847s 12s/step - loss: 0.1403 - accuracy: 0.9439 - val_loss: 0.1073 - val_accuracy: 0.9458\n",
            "Epoch 7/200\n",
            "70/70 [==============================] - 847s 12s/step - loss: 0.1372 - accuracy: 0.9476 - val_loss: 0.1153 - val_accuracy: 0.9349\n",
            "Epoch 8/200\n",
            "70/70 [==============================] - 846s 12s/step - loss: 0.1208 - accuracy: 0.9584 - val_loss: 0.0826 - val_accuracy: 0.9855\n",
            "Epoch 9/200\n",
            "70/70 [==============================] - 846s 12s/step - loss: 0.1229 - accuracy: 0.9584 - val_loss: 0.1174 - val_accuracy: 0.9892\n",
            "Epoch 10/200\n",
            "70/70 [==============================] - 846s 12s/step - loss: 0.0945 - accuracy: 0.9620 - val_loss: 0.0829 - val_accuracy: 0.9620\n",
            "Epoch 11/200\n",
            "70/70 [==============================] - ETA: 0s - loss: 0.0811 - accuracy: 0.9729"
          ]
        }
      ],
      "source": [
        "history = finetune_model.fit(train_generator, epochs=200, validation_data=val_generator, callbacks=[early_stopping_callback])"
      ]
    },
    {
      "cell_type": "code",
      "execution_count": null,
      "metadata": {
        "id": "DCLY1JRgjHGB"
      },
      "outputs": [],
      "source": [
        "y_vacc = history.history['val_accuracy']\n",
        "y_acc = history.history['accuracy']\n",
        "\n",
        "x_len = np.arange(len(y_acc))\n",
        "plt.plot(x_len, y_vacc, marker='.', c='red', label='val_accuracy')\n",
        "plt.plot(x_len, y_acc, marker='.', c='blue', label = 'accuracy')\n",
        "\n",
        "plt.legend(loc='upper right')\n",
        "plt.grid()\n",
        "plt.xlabel('epoch')\n",
        "plt.ylabel('acc')\n",
        "plt.show"
      ]
    },
    {
      "cell_type": "code",
      "execution_count": null,
      "metadata": {
        "id": "_GzoqcCBnwuc"
      },
      "outputs": [],
      "source": [
        "y_vloss = history.history['val_loss']\n",
        "y_loss = history.history['loss']\n",
        "\n",
        "x_len = np.arange(len(y_loss))\n",
        "plt.plot(x_len, y_vloss, marker='.', c='red', label='val_loss')\n",
        "plt.plot(x_len, y_loss, marker='.', c='blue', label = 'loss')\n",
        "\n",
        "plt.legend(loc='upper right')\n",
        "plt.grid()\n",
        "plt.xlabel('epoch')\n",
        "plt.ylabel('loss')\n",
        "plt.show"
      ]
    }
  ],
  "metadata": {
    "colab": {
      "provenance": [],
      "authorship_tag": "ABX9TyO1ylZjMhELD4ZEh+ACasgx",
      "include_colab_link": true
    },
    "kernelspec": {
      "display_name": "Python 3",
      "name": "python3"
    },
    "language_info": {
      "name": "python"
    }
  },
  "nbformat": 4,
  "nbformat_minor": 0
}