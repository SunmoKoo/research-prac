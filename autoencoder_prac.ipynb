{
 "cells": [
  {
   "cell_type": "code",
   "execution_count": 1,
   "id": "07b6ee90",
   "metadata": {},
   "outputs": [],
   "source": [
    "from tensorflow.keras.datasets import mnist\n",
    "from tensorflow.keras.models import Sequential, Model\n",
    "from tensorflow.keras.layers import Input, Dense, Conv2D, MaxPooling2D, UpSampling2D, Flatten, Reshape\n",
    "\n",
    "import matplotlib.pyplot as plt\n",
    "import numpy as np"
   ]
  },
  {
   "cell_type": "code",
   "execution_count": 2,
   "id": "7ed2a819",
   "metadata": {},
   "outputs": [],
   "source": [
    "(X_train, _),(X_test, _) = mnist.load_data()\n",
    "X_train = X_train.reshape(X_train.shape[0], 28, 28, 1).astype('float32') / 255\n",
    "X_test = X_test.reshape(X_test.shape[0], 28, 28, 1).astype('float32') / 255"
   ]
  },
  {
   "cell_type": "code",
   "execution_count": 5,
   "id": "ff5bce99",
   "metadata": {},
   "outputs": [],
   "source": [
    "autoencoder = Sequential()\n",
    "\n",
    "#encoder\n",
    "autoencoder.add(Conv2D(16, kernel_size=3, padding='same', input_shape=(28, 28,1), activation='relu'))\n",
    "autoencoder.add(MaxPooling2D(pool_size=2, padding='same'))\n",
    "autoencoder.add(Conv2D(8, kernel_size=3, activation='relu', padding='same'))\n",
    "autoencoder.add(MaxPooling2D(pool_size=2, padding='same'))\n",
    "autoencoder.add(Conv2D(8, kernel_size=3, strides=2, padding='same', activation='relu'))\n",
    "\n",
    "#decoder\n",
    "autoencoder.add(Conv2D(8, kernel_size=3, padding='same', activation='relu'))\n",
    "autoencoder.add(UpSampling2D())\n",
    "autoencoder.add(Conv2D(8, kernel_size=3, padding='same', activation='relu'))\n",
    "autoencoder.add(UpSampling2D())\n",
    "autoencoder.add(Conv2D(16, kernel_size=3, activation='relu'))\n",
    "autoencoder.add(UpSampling2D())\n",
    "autoencoder.add(Conv2D(1, kernel_size=3, padding='same', activation='sigmoid'))"
   ]
  },
  {
   "cell_type": "code",
   "execution_count": 7,
   "id": "6a384b84",
   "metadata": {},
   "outputs": [
    {
     "name": "stdout",
     "output_type": "stream",
     "text": [
      "Epoch 1/50\n",
      "469/469 [==============================] - 285s 594ms/step - loss: 0.2200 - val_loss: 0.1400\n",
      "Epoch 2/50\n",
      "469/469 [==============================] - 333s 710ms/step - loss: 0.1293 - val_loss: 0.1202\n",
      "Epoch 3/50\n",
      "469/469 [==============================] - 427s 912ms/step - loss: 0.1173 - val_loss: 0.1126\n",
      "Epoch 4/50\n",
      "469/469 [==============================] - 342s 729ms/step - loss: 0.1112 - val_loss: 0.1077\n",
      "Epoch 5/50\n",
      "469/469 [==============================] - 256s 547ms/step - loss: 0.1074 - val_loss: 0.1047\n",
      "Epoch 6/50\n",
      "469/469 [==============================] - 275s 587ms/step - loss: 0.1048 - val_loss: 0.1023\n",
      "Epoch 7/50\n",
      "469/469 [==============================] - 365s 777ms/step - loss: 0.1026 - val_loss: 0.1006\n",
      "Epoch 8/50\n",
      "469/469 [==============================] - 367s 783ms/step - loss: 0.1008 - val_loss: 0.0987\n",
      "Epoch 9/50\n",
      "469/469 [==============================] - 301s 642ms/step - loss: 0.0992 - val_loss: 0.0971\n",
      "Epoch 10/50\n",
      "469/469 [==============================] - 265s 566ms/step - loss: 0.0979 - val_loss: 0.0962\n",
      "Epoch 11/50\n",
      "469/469 [==============================] - 220s 470ms/step - loss: 0.0967 - val_loss: 0.0952\n",
      "Epoch 12/50\n",
      "469/469 [==============================] - 153s 326ms/step - loss: 0.0957 - val_loss: 0.0941\n",
      "Epoch 13/50\n",
      "469/469 [==============================] - 165s 351ms/step - loss: 0.0948 - val_loss: 0.0932\n",
      "Epoch 14/50\n",
      "469/469 [==============================] - 158s 337ms/step - loss: 0.0941 - val_loss: 0.0927\n",
      "Epoch 15/50\n",
      "469/469 [==============================] - 185s 395ms/step - loss: 0.0933 - val_loss: 0.0919\n",
      "Epoch 16/50\n",
      "469/469 [==============================] - 162s 345ms/step - loss: 0.0927 - val_loss: 0.0911\n",
      "Epoch 17/50\n",
      "469/469 [==============================] - 181s 386ms/step - loss: 0.0921 - val_loss: 0.0906\n",
      "Epoch 18/50\n",
      "469/469 [==============================] - 162s 346ms/step - loss: 0.0915 - val_loss: 0.0899\n",
      "Epoch 19/50\n",
      "469/469 [==============================] - 168s 358ms/step - loss: 0.0911 - val_loss: 0.0897\n",
      "Epoch 20/50\n",
      "469/469 [==============================] - 156s 333ms/step - loss: 0.0906 - val_loss: 0.0898\n",
      "Epoch 21/50\n",
      "469/469 [==============================] - 174s 370ms/step - loss: 0.0902 - val_loss: 0.0893\n",
      "Epoch 22/50\n",
      "469/469 [==============================] - 182s 387ms/step - loss: 0.0899 - val_loss: 0.0886\n",
      "Epoch 23/50\n",
      "469/469 [==============================] - 157s 335ms/step - loss: 0.0895 - val_loss: 0.0883\n",
      "Epoch 24/50\n",
      "469/469 [==============================] - 157s 335ms/step - loss: 0.0892 - val_loss: 0.0880\n",
      "Epoch 25/50\n",
      "469/469 [==============================] - 157s 335ms/step - loss: 0.0890 - val_loss: 0.0877\n",
      "Epoch 26/50\n",
      "469/469 [==============================] - 153s 326ms/step - loss: 0.0887 - val_loss: 0.0875\n",
      "Epoch 27/50\n",
      "469/469 [==============================] - 157s 334ms/step - loss: 0.0884 - val_loss: 0.0875\n",
      "Epoch 28/50\n",
      "469/469 [==============================] - 152s 325ms/step - loss: 0.0882 - val_loss: 0.0870\n",
      "Epoch 29/50\n",
      "469/469 [==============================] - 163s 347ms/step - loss: 0.0880 - val_loss: 0.0869\n",
      "Epoch 30/50\n",
      "469/469 [==============================] - 163s 347ms/step - loss: 0.0877 - val_loss: 0.0867\n",
      "Epoch 31/50\n",
      "469/469 [==============================] - 162s 346ms/step - loss: 0.0875 - val_loss: 0.0865\n",
      "Epoch 32/50\n",
      "469/469 [==============================] - 156s 334ms/step - loss: 0.0873 - val_loss: 0.0865\n",
      "Epoch 33/50\n",
      "469/469 [==============================] - 164s 350ms/step - loss: 0.0872 - val_loss: 0.0865\n",
      "Epoch 34/50\n",
      "469/469 [==============================] - 196s 417ms/step - loss: 0.0869 - val_loss: 0.0862\n",
      "Epoch 35/50\n",
      "469/469 [==============================] - 156s 332ms/step - loss: 0.0867 - val_loss: 0.0861\n",
      "Epoch 36/50\n",
      "469/469 [==============================] - 153s 327ms/step - loss: 0.0866 - val_loss: 0.0859\n",
      "Epoch 37/50\n",
      "469/469 [==============================] - 163s 347ms/step - loss: 0.0864 - val_loss: 0.0853\n",
      "Epoch 38/50\n",
      "469/469 [==============================] - 211s 449ms/step - loss: 0.0863 - val_loss: 0.0852\n",
      "Epoch 39/50\n",
      "469/469 [==============================] - 192s 409ms/step - loss: 0.0861 - val_loss: 0.0852\n",
      "Epoch 40/50\n",
      "469/469 [==============================] - 164s 349ms/step - loss: 0.0860 - val_loss: 0.0848\n",
      "Epoch 41/50\n",
      "469/469 [==============================] - 154s 328ms/step - loss: 0.0858 - val_loss: 0.0848\n",
      "Epoch 42/50\n",
      "469/469 [==============================] - 220s 470ms/step - loss: 0.0857 - val_loss: 0.0845\n",
      "Epoch 43/50\n",
      "469/469 [==============================] - 220s 469ms/step - loss: 0.0856 - val_loss: 0.0844\n",
      "Epoch 44/50\n",
      "469/469 [==============================] - 215s 459ms/step - loss: 0.0855 - val_loss: 0.0844\n",
      "Epoch 45/50\n",
      "469/469 [==============================] - 201s 427ms/step - loss: 0.0854 - val_loss: 0.0843\n",
      "Epoch 46/50\n",
      "469/469 [==============================] - 17075s 36s/step - loss: 0.0853 - val_loss: 0.0841\n",
      "Epoch 47/50\n",
      "469/469 [==============================] - 164s 350ms/step - loss: 0.0852 - val_loss: 0.0840\n",
      "Epoch 48/50\n",
      "469/469 [==============================] - 143s 305ms/step - loss: 0.0851 - val_loss: 0.0839\n",
      "Epoch 49/50\n",
      "469/469 [==============================] - 460s 982ms/step - loss: 0.0850 - val_loss: 0.0840\n",
      "Epoch 50/50\n",
      "469/469 [==============================] - 182s 388ms/step - loss: 0.0849 - val_loss: 0.0838\n"
     ]
    },
    {
     "data": {
      "text/plain": [
       "<keras.callbacks.History at 0x24a0eb4c2b0>"
      ]
     },
     "execution_count": 7,
     "metadata": {},
     "output_type": "execute_result"
    }
   ],
   "source": [
    "autoencoder.compile(optimizer='adam', loss='binary_crossentropy')\n",
    "autoencoder.fit(X_train, X_train, epochs=50, batch_size=128, validation_data=(X_test, X_test))"
   ]
  },
  {
   "cell_type": "code",
   "execution_count": 10,
   "id": "d24b7dd4",
   "metadata": {},
   "outputs": [
    {
     "name": "stdout",
     "output_type": "stream",
     "text": [
      "313/313 [==============================] - 14s 46ms/step\n"
     ]
    },
    {
     "data": {
      "image/png": "[encoded data removed]",
      "text/plain": [
       "<Figure size 504x144 with 10 Axes>"
      ]
     },
     "metadata": {
      "needs_background": "light"
     },
     "output_type": "display_data"
    }
   ],
   "source": [
    "random_test = np.random.randint(X_test.shape[0], size=5)\n",
    "\n",
    "ae_imgs = autoencoder.predict(X_test)\n",
    "\n",
    "plt.figure(figsize=(7,2))\n",
    "\n",
    "for i, image_idx in enumerate(random_test):\n",
    "    ax = plt.subplot(2, 7, i+1)\n",
    "    plt.imshow(X_test[image_idx].reshape(28,28))\n",
    "    ax.axis('off')\n",
    "    ax = plt.subplot(2, 7, 7+i+1)\n",
    "    plt.imshow(ae_imgs[image_idx].reshape(28,28))\n",
    "    ax.axis('off')\n",
    "plt.show()"
   ]
  }
 ],
 "metadata": {
  "kernelspec": {
   "display_name": "Python 3 (ipykernel)",
   "language": "python",
   "name": "python3"
  },
  "language_info": {
   "codemirror_mode": {
    "name": "ipython",
    "version": 3
   },
   "file_extension": ".py",
   "mimetype": "text/x-python",
   "name": "python",
   "nbconvert_exporter": "python",
   "pygments_lexer": "ipython3",
   "version": "3.9.12"
  }
 },
 "nbformat": 4,
 "nbformat_minor": 5
}
