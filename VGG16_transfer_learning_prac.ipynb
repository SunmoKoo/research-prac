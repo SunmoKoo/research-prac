{
 "cells": [
  {
   "cell_type": "code",
   "execution_count": 3,
   "id": "fd494039",
   "metadata": {},
   "outputs": [],
   "source": [
    "from tensorflow.keras.preprocessing.image import ImageDataGenerator\n",
    "from tensorflow.keras import Input, models, layers, optimizers, metrics\n",
    "from tensorflow.keras.layers import Dense, Flatten, Activation, Dropout\n",
    "from tensorflow.keras.applications import VGG16\n",
    "from tensorflow.keras.callbacks import EarlyStopping\n",
    "\n",
    "import numpy as np\n",
    "import matplotlib.pyplot as plt"
   ]
  },
  {
   "cell_type": "code",
   "execution_count": 4,
   "id": "4df8d72d",
   "metadata": {},
   "outputs": [
    {
     "name": "stderr",
     "output_type": "stream",
     "text": [
      "Cloning into 'data-ch20'...\n"
     ]
    }
   ],
   "source": [
    "!git clone https://github.com/taehojo/data-ch20.git"
   ]
  },
  {
   "cell_type": "code",
   "execution_count": 5,
   "id": "4bc11fd7",
   "metadata": {},
   "outputs": [],
   "source": [
    "train_datagen = ImageDataGenerator(rescale=1./255, horizontal_flip=True, width_shift_range=0.1, height_shift_range=0.1,)"
   ]
  },
  {
   "cell_type": "code",
   "execution_count": 6,
   "id": "61ee7999",
   "metadata": {},
   "outputs": [
    {
     "name": "stdout",
     "output_type": "stream",
     "text": [
      "Found 160 images belonging to 2 classes.\n"
     ]
    }
   ],
   "source": [
    "train_generator = train_datagen.flow_from_directory('./data-ch20/train', target_size=(150,150), batch_size=5, class_mode='binary')"
   ]
  },
  {
   "cell_type": "code",
   "execution_count": 8,
   "id": "c1a7a07e",
   "metadata": {},
   "outputs": [
    {
     "name": "stdout",
     "output_type": "stream",
     "text": [
      "Found 120 images belonging to 2 classes.\n"
     ]
    }
   ],
   "source": [
    "test_datagen = ImageDataGenerator(rescale=1./255)\n",
    "test_generator = test_datagen.flow_from_directory('./data-ch20/test', target_size=(150,150), batch_size=5, class_mode='binary')"
   ]
  },
  {
   "cell_type": "code",
   "execution_count": 10,
   "id": "2b9eb6a7",
   "metadata": {},
   "outputs": [
    {
     "name": "stdout",
     "output_type": "stream",
     "text": [
      "Downloading data from https://storage.googleapis.com/tensorflow/keras-applications/vgg16/vgg16_weights_tf_dim_ordering_tf_kernels_notop.h5\n",
      "58889256/58889256 [==============================] - 7s 0us/step\n"
     ]
    }
   ],
   "source": [
    "transfer_model = VGG16(weights='imagenet', include_top=False, input_shape=(150,150,3))\n",
    "transfer_model.trainable = False"
   ]
  },
  {
   "cell_type": "code",
   "execution_count": 11,
   "id": "988fa5ed",
   "metadata": {},
   "outputs": [
    {
     "name": "stdout",
     "output_type": "stream",
     "text": [
      "Model: \"sequential\"\n",
      "_________________________________________________________________\n",
      " Layer (type)                Output Shape              Param #   \n",
      "=================================================================\n",
      " vgg16 (Functional)          (None, 4, 4, 512)         14714688  \n",
      "                                                                 \n",
      " flatten (Flatten)           (None, 8192)              0         \n",
      "                                                                 \n",
      " dense (Dense)               (None, 64)                524352    \n",
      "                                                                 \n",
      " activation (Activation)     (None, 64)                0         \n",
      "                                                                 \n",
      " dropout (Dropout)           (None, 64)                0         \n",
      "                                                                 \n",
      " dense_1 (Dense)             (None, 1)                 65        \n",
      "                                                                 \n",
      " activation_1 (Activation)   (None, 1)                 0         \n",
      "                                                                 \n",
      "=================================================================\n",
      "Total params: 15,239,105\n",
      "Trainable params: 524,417\n",
      "Non-trainable params: 14,714,688\n",
      "_________________________________________________________________\n"
     ]
    }
   ],
   "source": [
    "finetune_model = models.Sequential()\n",
    "finetune_model.add(transfer_model)\n",
    "finetune_model.add(Flatten())\n",
    "finetune_model.add(Dense(64))\n",
    "finetune_model.add(Activation('relu'))\n",
    "finetune_model.add(Dropout(0.5))\n",
    "finetune_model.add(Dense(1))\n",
    "finetune_model.add(Activation('sigmoid'))\n",
    "finetune_model.summary()"
   ]
  },
  {
   "cell_type": "code",
   "execution_count": 13,
   "id": "e99cfbb9",
   "metadata": {},
   "outputs": [],
   "source": [
    "finetune_model.compile(loss='binary_crossentropy', optimizer = optimizers.Adam(learning_rate=0.0002),metrics=['accuracy'])\n",
    "early_stopping_callback = EarlyStopping(monitor='val_loss', patience=5)"
   ]
  },
  {
   "cell_type": "code",
   "execution_count": 16,
   "id": "1c955ade",
   "metadata": {},
   "outputs": [
    {
     "name": "stdout",
     "output_type": "stream",
     "text": [
      "Epoch 1/20\n",
      "32/32 [==============================] - 184s 6s/step - loss: 0.7008 - accuracy: 0.5813 - val_loss: 0.5164 - val_accuracy: 0.8200\n",
      "Epoch 2/20\n",
      "32/32 [==============================] - 176s 6s/step - loss: 0.5335 - accuracy: 0.7312 - val_loss: 0.4370 - val_accuracy: 0.8800\n",
      "Epoch 3/20\n",
      "32/32 [==============================] - 178s 6s/step - loss: 0.4458 - accuracy: 0.8188 - val_loss: 0.4151 - val_accuracy: 0.8400\n",
      "Epoch 4/20\n",
      "32/32 [==============================] - 214s 7s/step - loss: 0.4224 - accuracy: 0.8062 - val_loss: 0.3636 - val_accuracy: 0.8200\n",
      "Epoch 5/20\n",
      "32/32 [==============================] - 231s 7s/step - loss: 0.3322 - accuracy: 0.8813 - val_loss: 0.3026 - val_accuracy: 0.9400\n",
      "Epoch 6/20\n",
      "32/32 [==============================] - 192s 6s/step - loss: 0.3172 - accuracy: 0.8813 - val_loss: 0.3194 - val_accuracy: 0.8800\n",
      "Epoch 7/20\n",
      "32/32 [==============================] - 187s 6s/step - loss: 0.2692 - accuracy: 0.9312 - val_loss: 0.2387 - val_accuracy: 0.9600\n",
      "Epoch 8/20\n",
      "32/32 [==============================] - 196s 6s/step - loss: 0.2753 - accuracy: 0.9000 - val_loss: 0.1856 - val_accuracy: 1.0000\n",
      "Epoch 9/20\n",
      "32/32 [==============================] - 177s 6s/step - loss: 0.2424 - accuracy: 0.8938 - val_loss: 0.1769 - val_accuracy: 0.9400\n",
      "Epoch 10/20\n",
      "32/32 [==============================] - 213s 7s/step - loss: 0.1852 - accuracy: 0.9563 - val_loss: 0.1747 - val_accuracy: 0.9600\n",
      "Epoch 11/20\n",
      "32/32 [==============================] - 228s 7s/step - loss: 0.3157 - accuracy: 0.8562 - val_loss: 0.2003 - val_accuracy: 0.9600\n",
      "Epoch 12/20\n",
      "32/32 [==============================] - 224s 7s/step - loss: 0.1961 - accuracy: 0.9500 - val_loss: 0.1330 - val_accuracy: 0.9600\n",
      "Epoch 13/20\n",
      "32/32 [==============================] - 192s 6s/step - loss: 0.1979 - accuracy: 0.9375 - val_loss: 0.1595 - val_accuracy: 0.9600\n",
      "Epoch 14/20\n",
      "32/32 [==============================] - 211s 7s/step - loss: 0.1775 - accuracy: 0.9375 - val_loss: 0.1329 - val_accuracy: 0.9800\n",
      "Epoch 15/20\n",
      "32/32 [==============================] - 556s 18s/step - loss: 0.1896 - accuracy: 0.9375 - val_loss: 0.2559 - val_accuracy: 0.9000\n",
      "Epoch 16/20\n",
      "32/32 [==============================] - 691s 22s/step - loss: 0.1684 - accuracy: 0.9563 - val_loss: 0.1795 - val_accuracy: 0.9600\n",
      "Epoch 17/20\n",
      "32/32 [==============================] - 444s 14s/step - loss: 0.1636 - accuracy: 0.9438 - val_loss: 0.1153 - val_accuracy: 0.9600\n",
      "Epoch 18/20\n",
      "32/32 [==============================] - 602s 19s/step - loss: 0.2032 - accuracy: 0.9312 - val_loss: 0.1181 - val_accuracy: 0.9600\n",
      "Epoch 19/20\n",
      "32/32 [==============================] - 586s 18s/step - loss: 0.1459 - accuracy: 0.9625 - val_loss: 0.1234 - val_accuracy: 0.9800\n",
      "Epoch 20/20\n",
      "32/32 [==============================] - 447s 14s/step - loss: 0.1548 - accuracy: 0.9563 - val_loss: 0.2054 - val_accuracy: 0.9000\n"
     ]
    }
   ],
   "source": [
    "history = finetune_model.fit(train_generator, epochs=20, validation_data=test_generator, validation_steps=10, callbacks=[early_stopping_callback])"
   ]
  },
  {
   "cell_type": "code",
   "execution_count": 18,
   "id": "e9b1bf3f",
   "metadata": {},
   "outputs": [
    {
     "data": {
      "text/plain": [
       "<function matplotlib.pyplot.show(close=None, block=None)>"
      ]
     },
     "execution_count": 18,
     "metadata": {},
     "output_type": "execute_result"
    },
    {
     "data": {
      "image/png": "[encoded data removed]",
      "text/plain": [
       "<Figure size 432x288 with 1 Axes>"
      ]
     },
     "metadata": {
      "needs_background": "light"
     },
     "output_type": "display_data"
    }
   ],
   "source": [
    "y_vloss = history.history['val_loss']\n",
    "y_loss = history.history['loss']\n",
    "\n",
    "x_len = np.arange(len(y_loss))\n",
    "plt.plot(x_len, y_vloss, marker='.', c='red', label='Testset_loss')\n",
    "plt.plot(x_len, y_loss, marker='.', c='blue', label='Testset_loss')\n",
    "\n",
    "plt.legend(loc='upper right')\n",
    "plt.grid()\n",
    "plt.xlabel('epoch')\n",
    "plt.ylabel('loss')\n",
    "plt.show"
   ]
  }
 ],
 "metadata": {
  "kernelspec": {
   "display_name": "Python 3 (ipykernel)",
   "language": "python",
   "name": "python3"
  },
  "language_info": {
   "codemirror_mode": {
    "name": "ipython",
    "version": 3
   },
   "file_extension": ".py",
   "mimetype": "text/x-python",
   "name": "python",
   "nbconvert_exporter": "python",
   "pygments_lexer": "ipython3",
   "version": "3.9.12"
  }
 },
 "nbformat": 4,
 "nbformat_minor": 5
}
